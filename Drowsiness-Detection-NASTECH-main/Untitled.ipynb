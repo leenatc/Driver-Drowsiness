{
 "cells": [
  {
   "cell_type": "code",
   "execution_count": 1,
   "id": "d85a05e2",
   "metadata": {},
   "outputs": [],
   "source": [
    "import numpy as np\n",
    "import pandas as pd\n",
    "import os\n",
    "\n",
    "import cv2\n",
    "\n",
    "from sklearn.preprocessing import LabelBinarizer\n",
    "from sklearn.model_selection import train_test_split\n",
    "from sklearn.metrics import classification_report\n",
    "\n",
    "from tensorflow.keras.layers import Input, Lambda, Dense, Flatten, Conv2D, MaxPooling2D, Dropout\n",
    "from tensorflow.keras.models import Model\n",
    "from tensorflow.keras.models import Sequential\n",
    "from tensorflow.keras.preprocessing.image import ImageDataGenerator\n",
    "import tensorflow as tf\n",
    "\n",
    "from tensorflow.keras.models import load_model"
   ]
  },
  {
   "cell_type": "code",
   "execution_count": 3,
   "id": "c03189be",
   "metadata": {},
   "outputs": [],
   "source": [
    "def predict_images(path):\n",
    "\n",
    "    model=load_model(\"./drowiness_new6.h5\")\n",
    "    results={0:'yawn',1:'no_yawn', 2:'Closed', 3: 'Open'}\n",
    "    GR_dict={0:(0,0,255),1:(0,255,0), 2:(0,0,255), 3:(0,255,0)}\n",
    "    im = cv2.imread(path)\n",
    "    rect_size = 4\n",
    "\n",
    "    haarcascade = cv2.CascadeClassifier('prediction_images/haarcascade.xml')\n",
    "    haarcascade2 =  cv2.CascadeClassifier('prediction_images/haarcascade_frontalface_default.xml')\n",
    "    im=cv2.flip(im,1,1)\n",
    "\n",
    "    rerect_size = cv2.resize(im, ((im.shape[1] // rect_size, im.shape[0] // rect_size)))\n",
    "    faces = haarcascade2.detectMultiScale(rerect_size)\n",
    "\n",
    "    while True:\n",
    "        for f in faces:\n",
    "            (x, y, w, h) = [v * rect_size for v in f] \n",
    "            \n",
    "            face_img = im[y:y+h, x:x+w]\n",
    "            rerect_sized=cv2.resize(face_img,(145,145))\n",
    "            normalized=rerect_sized/255.0\n",
    "            reshaped=np.reshape(normalized,(1,145,145,3))\n",
    "            reshaped = np.vstack([reshaped])\n",
    "            result=model.predict(reshaped)\n",
    "\n",
    "            \n",
    "            label=np.argmax(result,axis=1)[0]\n",
    "        \n",
    "            cv2.rectangle(im,(x,y),(x+w,y+h),GR_dict[label],2)\n",
    "            cv2.rectangle(im,(x,y-40),(x+w,y),GR_dict[label],-1)\n",
    "            cv2.rectangle(im,(x,y),(x+w,y+h),GR_dict[label],2)\n",
    "            cv2.rectangle(im,(x,y-40),(x+w,y),GR_dict[label],-1)\n",
    "            cv2.putText(im, results[label], (x, y-10),cv2.FONT_HERSHEY_SIMPLEX,0.8,(255,255,255),2)\n",
    "\n",
    "        cv2.imshow('LIVE',   im)\n",
    "        key = cv2.waitKey(10)\n",
    "\n",
    "        if key == 27: \n",
    "            break\n",
    "\n",
    "    cv2.destroyAllWindows()"
   ]
  },
  {
   "cell_type": "code",
   "execution_count": 4,
   "id": "3cc7aac1",
   "metadata": {},
   "outputs": [
    {
     "ename": "AttributeError",
     "evalue": "'NoneType' object has no attribute 'shape'",
     "output_type": "error",
     "traceback": [
      "\u001b[1;31m---------------------------------------------------------------------------\u001b[0m",
      "\u001b[1;31mAttributeError\u001b[0m                            Traceback (most recent call last)",
      "\u001b[1;32m~\\AppData\\Local\\Temp/ipykernel_14944/218539725.py\u001b[0m in \u001b[0;36m<module>\u001b[1;34m\u001b[0m\n\u001b[1;32m----> 1\u001b[1;33m \u001b[0mpredict_images\u001b[0m\u001b[1;33m(\u001b[0m\u001b[1;34m'prediction_images/8.jpeg'\u001b[0m\u001b[1;33m)\u001b[0m\u001b[1;33m\u001b[0m\u001b[1;33m\u001b[0m\u001b[0m\n\u001b[0m",
      "\u001b[1;32m~\\AppData\\Local\\Temp/ipykernel_14944/3572567066.py\u001b[0m in \u001b[0;36mpredict_images\u001b[1;34m(path)\u001b[0m\n\u001b[0;32m     11\u001b[0m     \u001b[0mim\u001b[0m\u001b[1;33m=\u001b[0m\u001b[0mcv2\u001b[0m\u001b[1;33m.\u001b[0m\u001b[0mflip\u001b[0m\u001b[1;33m(\u001b[0m\u001b[0mim\u001b[0m\u001b[1;33m,\u001b[0m\u001b[1;36m1\u001b[0m\u001b[1;33m,\u001b[0m\u001b[1;36m1\u001b[0m\u001b[1;33m)\u001b[0m\u001b[1;33m\u001b[0m\u001b[1;33m\u001b[0m\u001b[0m\n\u001b[0;32m     12\u001b[0m \u001b[1;33m\u001b[0m\u001b[0m\n\u001b[1;32m---> 13\u001b[1;33m     \u001b[0mrerect_size\u001b[0m \u001b[1;33m=\u001b[0m \u001b[0mcv2\u001b[0m\u001b[1;33m.\u001b[0m\u001b[0mresize\u001b[0m\u001b[1;33m(\u001b[0m\u001b[0mim\u001b[0m\u001b[1;33m,\u001b[0m \u001b[1;33m(\u001b[0m\u001b[1;33m(\u001b[0m\u001b[0mim\u001b[0m\u001b[1;33m.\u001b[0m\u001b[0mshape\u001b[0m\u001b[1;33m[\u001b[0m\u001b[1;36m1\u001b[0m\u001b[1;33m]\u001b[0m \u001b[1;33m//\u001b[0m \u001b[0mrect_size\u001b[0m\u001b[1;33m,\u001b[0m \u001b[0mim\u001b[0m\u001b[1;33m.\u001b[0m\u001b[0mshape\u001b[0m\u001b[1;33m[\u001b[0m\u001b[1;36m0\u001b[0m\u001b[1;33m]\u001b[0m \u001b[1;33m//\u001b[0m \u001b[0mrect_size\u001b[0m\u001b[1;33m)\u001b[0m\u001b[1;33m)\u001b[0m\u001b[1;33m)\u001b[0m\u001b[1;33m\u001b[0m\u001b[1;33m\u001b[0m\u001b[0m\n\u001b[0m\u001b[0;32m     14\u001b[0m     \u001b[0mfaces\u001b[0m \u001b[1;33m=\u001b[0m \u001b[0mhaarcascade2\u001b[0m\u001b[1;33m.\u001b[0m\u001b[0mdetectMultiScale\u001b[0m\u001b[1;33m(\u001b[0m\u001b[0mrerect_size\u001b[0m\u001b[1;33m)\u001b[0m\u001b[1;33m\u001b[0m\u001b[1;33m\u001b[0m\u001b[0m\n\u001b[0;32m     15\u001b[0m \u001b[1;33m\u001b[0m\u001b[0m\n",
      "\u001b[1;31mAttributeError\u001b[0m: 'NoneType' object has no attribute 'shape'"
     ]
    }
   ],
   "source": [
    "predict_images('prediction_images/8.jpeg')"
   ]
  },
  {
   "cell_type": "code",
   "execution_count": null,
   "id": "b8c3f381",
   "metadata": {},
   "outputs": [],
   "source": []
  }
 ],
 "metadata": {
  "kernelspec": {
   "display_name": "Python 3 (ipykernel)",
   "language": "python",
   "name": "python3"
  },
  "language_info": {
   "codemirror_mode": {
    "name": "ipython",
    "version": 3
   },
   "file_extension": ".py",
   "mimetype": "text/x-python",
   "name": "python",
   "nbconvert_exporter": "python",
   "pygments_lexer": "ipython3",
   "version": "3.9.7"
  }
 },
 "nbformat": 4,
 "nbformat_minor": 5
}
